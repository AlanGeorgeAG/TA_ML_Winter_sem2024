{
 "cells": [
  {
   "cell_type": "code",
   "execution_count": 1,
   "id": "90a7a6a0-6eb5-442c-83a2-34be3b0af5be",
   "metadata": {},
   "outputs": [],
   "source": [
    "import pandas as pd"
   ]
  },
  {
   "cell_type": "code",
   "execution_count": 2,
   "id": "e6d13d8e-da7f-4c3a-ba5a-12f141f9b3b5",
   "metadata": {},
   "outputs": [
    {
     "name": "stdout",
     "output_type": "stream",
     "text": [
      "First six rows\n",
      "   symboling normalized-losses         make fuel-type aspiration num-of-doors  \\\n",
      "0          3                 ?  alfa-romero       gas        std          two   \n",
      "1          3                 ?  alfa-romero       gas        std          two   \n",
      "2          1                 ?  alfa-romero       gas        std          two   \n",
      "3          2               164         audi       gas        std         four   \n",
      "4          2               164         audi       gas        std         four   \n",
      "5          2                 ?         audi       gas        std          two   \n",
      "\n",
      "    body-style drive-wheels engine-location  wheel-base  ...  engine-size  \\\n",
      "0  convertible          rwd           front        88.6  ...          130   \n",
      "1  convertible          rwd           front        88.6  ...          130   \n",
      "2    hatchback          rwd           front        94.5  ...          152   \n",
      "3        sedan          fwd           front        99.8  ...          109   \n",
      "4        sedan          4wd           front        99.4  ...          136   \n",
      "5        sedan          fwd           front        99.8  ...          136   \n",
      "\n",
      "   fuel-system  bore  stroke compression-ratio horsepower  peak-rpm city-mpg  \\\n",
      "0         mpfi  3.47    2.68               9.0        111      5000       21   \n",
      "1         mpfi  3.47    2.68               9.0        111      5000       21   \n",
      "2         mpfi  2.68    3.47               9.0        154      5000       19   \n",
      "3         mpfi  3.19     3.4              10.0        102      5500       24   \n",
      "4         mpfi  3.19     3.4               8.0        115      5500       18   \n",
      "5         mpfi  3.19     3.4               8.5        110      5500       19   \n",
      "\n",
      "  highway-mpg  price  \n",
      "0          27  13495  \n",
      "1          27  16500  \n",
      "2          26  16500  \n",
      "3          30  13950  \n",
      "4          22  17450  \n",
      "5          25  15250  \n",
      "\n",
      "[6 rows x 26 columns]\n",
      "Last six rows\n",
      "     symboling normalized-losses   make fuel-type aspiration num-of-doors  \\\n",
      "199         -1                74  volvo       gas      turbo         four   \n",
      "200         -1                95  volvo       gas        std         four   \n",
      "201         -1                95  volvo       gas      turbo         four   \n",
      "202         -1                95  volvo       gas        std         four   \n",
      "203         -1                95  volvo    diesel      turbo         four   \n",
      "204         -1                95  volvo       gas      turbo         four   \n",
      "\n",
      "    body-style drive-wheels engine-location  wheel-base  ...  engine-size  \\\n",
      "199      wagon          rwd           front       104.3  ...          130   \n",
      "200      sedan          rwd           front       109.1  ...          141   \n",
      "201      sedan          rwd           front       109.1  ...          141   \n",
      "202      sedan          rwd           front       109.1  ...          173   \n",
      "203      sedan          rwd           front       109.1  ...          145   \n",
      "204      sedan          rwd           front       109.1  ...          141   \n",
      "\n",
      "     fuel-system  bore  stroke compression-ratio horsepower  peak-rpm  \\\n",
      "199         mpfi  3.62    3.15               7.5        162      5100   \n",
      "200         mpfi  3.78    3.15               9.5        114      5400   \n",
      "201         mpfi  3.78    3.15               8.7        160      5300   \n",
      "202         mpfi  3.58    2.87               8.8        134      5500   \n",
      "203          idi  3.01     3.4              23.0        106      4800   \n",
      "204         mpfi  3.78    3.15               9.5        114      5400   \n",
      "\n",
      "    city-mpg highway-mpg  price  \n",
      "199       17          22  18950  \n",
      "200       23          28  16845  \n",
      "201       19          25  19045  \n",
      "202       18          23  21485  \n",
      "203       26          27  22470  \n",
      "204       19          25  22625  \n",
      "\n",
      "[6 rows x 26 columns]\n"
     ]
    }
   ],
   "source": [
    "#Task1\n",
    "df=pd.read_csv(\"C:\\\\Users\\\\Admin\\\\Downloads\\\\Automobile_data.csv\")\n",
    "print(\"First six rows\")\n",
    "print(df.head(6))\n",
    "print(\"Last six rows\")\n",
    "print(df.tail(6))"
   ]
  },
  {
   "cell_type": "code",
   "execution_count": 3,
   "id": "69d11ada-70da-4f0e-abe2-ac928fc872f4",
   "metadata": {},
   "outputs": [
    {
     "name": "stdout",
     "output_type": "stream",
     "text": [
      "Cleaned dataset:\n",
      "     symboling normalized-losses         make fuel-type aspiration  \\\n",
      "0            3              <NA>  alfa-romero       gas        std   \n",
      "1            3              <NA>  alfa-romero       gas        std   \n",
      "2            1              <NA>  alfa-romero       gas        std   \n",
      "3            2               164         audi       gas        std   \n",
      "4            2               164         audi       gas        std   \n",
      "..         ...               ...          ...       ...        ...   \n",
      "200         -1                95        volvo       gas        std   \n",
      "201         -1                95        volvo       gas      turbo   \n",
      "202         -1                95        volvo       gas        std   \n",
      "203         -1                95        volvo    diesel      turbo   \n",
      "204         -1                95        volvo       gas      turbo   \n",
      "\n",
      "    num-of-doors   body-style drive-wheels engine-location  wheel-base  ...  \\\n",
      "0            two  convertible          rwd           front        88.6  ...   \n",
      "1            two  convertible          rwd           front        88.6  ...   \n",
      "2            two    hatchback          rwd           front        94.5  ...   \n",
      "3           four        sedan          fwd           front        99.8  ...   \n",
      "4           four        sedan          4wd           front        99.4  ...   \n",
      "..           ...          ...          ...             ...         ...  ...   \n",
      "200         four        sedan          rwd           front       109.1  ...   \n",
      "201         four        sedan          rwd           front       109.1  ...   \n",
      "202         four        sedan          rwd           front       109.1  ...   \n",
      "203         four        sedan          rwd           front       109.1  ...   \n",
      "204         four        sedan          rwd           front       109.1  ...   \n",
      "\n",
      "     engine-size  fuel-system  bore  stroke compression-ratio horsepower  \\\n",
      "0            130         mpfi  3.47    2.68               9.0        111   \n",
      "1            130         mpfi  3.47    2.68               9.0        111   \n",
      "2            152         mpfi  2.68    3.47               9.0        154   \n",
      "3            109         mpfi  3.19     3.4              10.0        102   \n",
      "4            136         mpfi  3.19     3.4               8.0        115   \n",
      "..           ...          ...   ...     ...               ...        ...   \n",
      "200          141         mpfi  3.78    3.15               9.5        114   \n",
      "201          141         mpfi  3.78    3.15               8.7        160   \n",
      "202          173         mpfi  3.58    2.87               8.8        134   \n",
      "203          145          idi  3.01     3.4              23.0        106   \n",
      "204          141         mpfi  3.78    3.15               9.5        114   \n",
      "\n",
      "     peak-rpm city-mpg highway-mpg  price  \n",
      "0        5000       21          27  13495  \n",
      "1        5000       21          27  16500  \n",
      "2        5000       19          26  16500  \n",
      "3        5500       24          30  13950  \n",
      "4        5500       18          22  17450  \n",
      "..        ...      ...         ...    ...  \n",
      "200      5400       23          28  16845  \n",
      "201      5300       19          25  19045  \n",
      "202      5500       18          23  21485  \n",
      "203      4800       26          27  22470  \n",
      "204      5400       19          25  22625  \n",
      "\n",
      "[205 rows x 26 columns]\n"
     ]
    },
    {
     "name": "stderr",
     "output_type": "stream",
     "text": [
      "C:\\Users\\Admin\\AppData\\Local\\Temp\\ipykernel_40868\\271570692.py:10: FutureWarning: A value is trying to be set on a copy of a DataFrame or Series through chained assignment using an inplace method.\n",
      "The behavior will change in pandas 3.0. This inplace method will never work because the intermediate object on which we are setting values always behaves as a copy.\n",
      "\n",
      "For example, when doing 'df[col].method(value, inplace=True)', try using 'df.method({col: value}, inplace=True)' or df[col] = df[col].method(value) instead, to perform the operation inplace on the original object.\n",
      "\n",
      "\n",
      "  df[column].fillna(df[column].mean(), inplace=True)       # Replace NaN with the column mean\n"
     ]
    }
   ],
   "source": [
    "#task2\n",
    "# Step 1: Replace \"?\" and \"n.a\" in all columns with NaN\n",
    "df.replace([\"?\", \"n.a\"], pd.NA, inplace=True)\n",
    "\n",
    "# Step 2: Automatically identify numeric columns\n",
    "numeric_columns = df.select_dtypes(include=[\"float64\", \"int64\"]).columns\n",
    "\n",
    "# Step 3: Process only numeric columns\n",
    "for column in numeric_columns:\n",
    "    df[column] = pd.to_numeric(df[column], errors=\"coerce\")  # Convert to numeric, forcing invalid values to NaN\n",
    "    df[column].fillna(df[column].mean(), inplace=True)       # Replace NaN with the column mean\n",
    "\n",
    "# Print the cleaned dataset\n",
    "print(\"Cleaned dataset:\")\n",
    "print(df)"
   ]
  },
  {
   "cell_type": "code",
   "execution_count": 5,
   "id": "13e705c2-26df-47cb-9166-01497b82efd3",
   "metadata": {},
   "outputs": [
    {
     "name": "stdout",
     "output_type": "stream",
     "text": [
      "Car manufacturer with the least horsepower:\n",
      "make          chevrolet\n",
      "horsepower         48.0\n",
      "Name: 18, dtype: object\n"
     ]
    },
    {
     "name": "stderr",
     "output_type": "stream",
     "text": [
      "C:\\Users\\Admin\\AppData\\Local\\Temp\\ipykernel_40868\\1335175896.py:8: FutureWarning: A value is trying to be set on a copy of a DataFrame or Series through chained assignment using an inplace method.\n",
      "The behavior will change in pandas 3.0. This inplace method will never work because the intermediate object on which we are setting values always behaves as a copy.\n",
      "\n",
      "For example, when doing 'df[col].method(value, inplace=True)', try using 'df.method({col: value}, inplace=True)' or df[col] = df[col].method(value) instead, to perform the operation inplace on the original object.\n",
      "\n",
      "\n",
      "  df[\"horsepower\"].fillna(df[\"horsepower\"].mean(), inplace=True)\n"
     ]
    }
   ],
   "source": [
    "#task3 \n",
    "# Ensure 'horsepower' column is numeric\n",
    "# Convert 'horsepower' to numeric, coercing invalid entries to NaN\n",
    "df[\"horsepower\"] = pd.to_numeric(df[\"horsepower\"], errors=\"coerce\")\n",
    "\n",
    "# Handle missing values in 'horsepower'\n",
    "# Fill NaN values in 'horsepower' with the column mean\n",
    "df[\"horsepower\"].fillna(df[\"horsepower\"].mean(), inplace=True)\n",
    "\n",
    "# Find the row with the minimum horsepower\n",
    "# Use idxmin() to get the index of the first occurrence of the minimum value\n",
    "result = df.loc[df[\"horsepower\"].idxmin(), [\"make\", \"horsepower\"]]\n",
    "\n",
    "# Print the result\n",
    "print(\"Car manufacturer with the least horsepower:\")\n",
    "print(result)"
   ]
  },
  {
   "cell_type": "code",
   "execution_count": 6,
   "id": "b9679b8b-4f7b-4170-8bc4-83ad25b3ad75",
   "metadata": {},
   "outputs": [
    {
     "name": "stdout",
     "output_type": "stream",
     "text": [
      "All vehicles from BMW:\n",
      "    symboling normalized-losses make fuel-type aspiration num-of-doors  \\\n",
      "10          2               192  bmw       gas        std          two   \n",
      "11          0               192  bmw       gas        std         four   \n",
      "12          0               188  bmw       gas        std          two   \n",
      "13          0               188  bmw       gas        std         four   \n",
      "14          1              <NA>  bmw       gas        std         four   \n",
      "15          0              <NA>  bmw       gas        std         four   \n",
      "16          0              <NA>  bmw       gas        std          two   \n",
      "17          0              <NA>  bmw       gas        std         four   \n",
      "\n",
      "   body-style drive-wheels engine-location  wheel-base  ...  engine-size  \\\n",
      "10      sedan          rwd           front       101.2  ...          108   \n",
      "11      sedan          rwd           front       101.2  ...          108   \n",
      "12      sedan          rwd           front       101.2  ...          164   \n",
      "13      sedan          rwd           front       101.2  ...          164   \n",
      "14      sedan          rwd           front       103.5  ...          164   \n",
      "15      sedan          rwd           front       103.5  ...          209   \n",
      "16      sedan          rwd           front       103.5  ...          209   \n",
      "17      sedan          rwd           front       110.0  ...          209   \n",
      "\n",
      "    fuel-system  bore  stroke compression-ratio horsepower  peak-rpm city-mpg  \\\n",
      "10         mpfi   3.5     2.8               8.8      101.0      5800       23   \n",
      "11         mpfi   3.5     2.8               8.8      101.0      5800       23   \n",
      "12         mpfi  3.31    3.19               9.0      121.0      4250       21   \n",
      "13         mpfi  3.31    3.19               9.0      121.0      4250       21   \n",
      "14         mpfi  3.31    3.19               9.0      121.0      4250       20   \n",
      "15         mpfi  3.62    3.39               8.0      182.0      5400       16   \n",
      "16         mpfi  3.62    3.39               8.0      182.0      5400       16   \n",
      "17         mpfi  3.62    3.39               8.0      182.0      5400       15   \n",
      "\n",
      "   highway-mpg  price  \n",
      "10          29  16430  \n",
      "11          29  16925  \n",
      "12          28  20970  \n",
      "13          28  21105  \n",
      "14          25  24565  \n",
      "15          22  30760  \n",
      "16          22  41315  \n",
      "17          20  36880  \n",
      "\n",
      "[8 rows x 26 columns]\n"
     ]
    }
   ],
   "source": [
    "#task4\n",
    "# Filter rows where the manufacturer is BMW\n",
    "bmw_vehicles = df[df[\"make\"].str.lower() == \"bmw\"]\n",
    "print(\"All vehicles from BMW:\")\n",
    "print(bmw_vehicles)"
   ]
  },
  {
   "cell_type": "code",
   "execution_count": 7,
   "id": "659459f2-567f-44ef-a03f-c9398cb83f24",
   "metadata": {},
   "outputs": [
    {
     "name": "stdout",
     "output_type": "stream",
     "text": [
      "Number of vehicles per manufacturer:\n",
      "make\n",
      "toyota           32\n",
      "nissan           18\n",
      "mazda            17\n",
      "mitsubishi       13\n",
      "honda            13\n",
      "volkswagen       12\n",
      "subaru           12\n",
      "peugot           11\n",
      "volvo            11\n",
      "dodge             9\n",
      "mercedes-benz     8\n",
      "bmw               8\n",
      "audi              7\n",
      "plymouth          7\n",
      "saab              6\n",
      "porsche           5\n",
      "isuzu             4\n",
      "jaguar            3\n",
      "chevrolet         3\n",
      "alfa-romero       3\n",
      "renault           2\n",
      "mercury           1\n",
      "Name: count, dtype: int64\n"
     ]
    }
   ],
   "source": [
    "#task5\n",
    "# Count the number of vehicles for each manufacturer\n",
    "vehicles_per_manufacturer = df[\"make\"].value_counts()\n",
    "print(\"Number of vehicles per manufacturer:\")\n",
    "print(vehicles_per_manufacturer)"
   ]
  },
  {
   "cell_type": "code",
   "execution_count": 8,
   "id": "c2972ff5-d7cd-4371-93d4-9e05f194d6ab",
   "metadata": {},
   "outputs": [
    {
     "name": "stdout",
     "output_type": "stream",
     "text": [
      "Most expensive vehicle from each manufacturer along with its price:\n",
      "              make  price\n",
      "1      alfa-romero  16500\n",
      "8             audi  23875\n",
      "16             bmw  41315\n",
      "20       chevrolet   6575\n",
      "28           dodge   8921\n",
      "38           honda   9095\n",
      "43           isuzu   6785\n",
      "49          jaguar  36000\n",
      "59           mazda   8845\n",
      "74   mercedes-benz  45400\n",
      "75         mercury  16503\n",
      "80      mitsubishi   9959\n",
      "100         nissan   9549\n",
      "117         peugot  18150\n",
      "123       plymouth   8921\n",
      "128        porsche  37028\n",
      "131        renault   9895\n",
      "137           saab  18620\n",
      "143         subaru   9960\n",
      "169         toyota   9989\n",
      "188     volkswagen   9995\n",
      "204          volvo  22625\n"
     ]
    }
   ],
   "source": [
    "#task6\n",
    "# Use idxmax() to locate the row with the maximum price for each manufacturer\n",
    "most_expensive_vehicles = df.loc[df.groupby(\"make\")[\"price\"].idxmax(), [\"make\", \"price\"]]\n",
    "\n",
    "# Step 4: Print the result\n",
    "print(\"Most expensive vehicle from each manufacturer along with its price:\")\n",
    "print(most_expensive_vehicles)\n"
   ]
  },
  {
   "cell_type": "code",
   "execution_count": 9,
   "id": "aaafc681-5187-4c7f-a50c-db24a590fe73",
   "metadata": {},
   "outputs": [
    {
     "name": "stdout",
     "output_type": "stream",
     "text": [
      "Average city mileage for each manufacturer:\n",
      "make\n",
      "alfa-romero      20.333333\n",
      "audi             18.857143\n",
      "bmw              19.375000\n",
      "chevrolet        41.000000\n",
      "dodge            28.000000\n",
      "honda            30.384615\n",
      "isuzu            31.000000\n",
      "jaguar           14.333333\n",
      "mazda            25.705882\n",
      "mercedes-benz    18.500000\n",
      "mercury          19.000000\n",
      "mitsubishi       24.923077\n",
      "nissan           27.000000\n",
      "peugot           22.454545\n",
      "plymouth         28.142857\n",
      "porsche          17.400000\n",
      "renault          23.000000\n",
      "saab             20.333333\n",
      "subaru           26.333333\n",
      "toyota           27.500000\n",
      "volkswagen       28.583333\n",
      "volvo            21.181818\n",
      "Name: city-mpg, dtype: float64\n"
     ]
    }
   ],
   "source": [
    "#task7\n",
    "# Calculate the mean city mileage grouped by manufacturer\n",
    "average_city_mpg = df.groupby(\"make\")[\"city-mpg\"].mean()\n",
    "print(\"Average city mileage for each manufacturer:\")\n",
    "print(average_city_mpg)\n"
   ]
  },
  {
   "cell_type": "code",
   "execution_count": 10,
   "id": "c68bdc9c-bca8-47c0-b94d-6c6b52fd2f7c",
   "metadata": {},
   "outputs": [
    {
     "name": "stdout",
     "output_type": "stream",
     "text": [
      "Data sorted by price (descending):\n",
      "           make  price\n",
      "188  volkswagen   9995\n",
      "169      toyota   9989\n",
      "175      toyota   9988\n",
      "190  volkswagen   9980\n",
      "143      subaru   9960\n",
      "..          ...    ...\n",
      "147      subaru  10198\n",
      "9          audi   <NA>\n",
      "44        isuzu   <NA>\n",
      "45        isuzu   <NA>\n",
      "129     porsche   <NA>\n",
      "\n",
      "[205 rows x 2 columns]\n"
     ]
    }
   ],
   "source": [
    "#task8\n",
    "# Sort the DataFrame by price in descending order\n",
    "sorted_by_price = df.sort_values(by=\"price\", ascending=False)\n",
    "\n",
    "# Display the sorted result with 'make' and 'price' columns\n",
    "print(\"Data sorted by price (descending):\")\n",
    "print(sorted_by_price[[\"make\", \"price\"]])\n"
   ]
  },
  {
   "cell_type": "code",
   "execution_count": 11,
   "id": "a846fe66-75da-4356-bce7-2f61a43859c3",
   "metadata": {},
   "outputs": [
    {
     "name": "stdout",
     "output_type": "stream",
     "text": [
      "Number of vehicles for each body style:\n",
      "body-style\n",
      "sedan          96\n",
      "hatchback      70\n",
      "wagon          25\n",
      "hardtop         8\n",
      "convertible     6\n",
      "Name: count, dtype: int64\n"
     ]
    }
   ],
   "source": [
    "#task9\n",
    "# Count the number of vehicles for each body style\n",
    "body_style_counts = df[\"body-style\"].value_counts()\n",
    "print(\"Number of vehicles for each body style:\")\n",
    "print(body_style_counts)\n"
   ]
  },
  {
   "cell_type": "code",
   "execution_count": 13,
   "id": "627293ba-1ce6-48cf-902d-edd13828d821",
   "metadata": {},
   "outputs": [
    {
     "name": "stdout",
     "output_type": "stream",
     "text": [
      "Average price of cars for each fuel type:\n",
      "fuel-type\n",
      "diesel    15838.150000\n",
      "gas       12922.694689\n",
      "Name: price, dtype: float64\n"
     ]
    },
    {
     "name": "stderr",
     "output_type": "stream",
     "text": [
      "C:\\Users\\Admin\\AppData\\Local\\Temp\\ipykernel_40868\\582125625.py:4: FutureWarning: A value is trying to be set on a copy of a DataFrame or Series through chained assignment using an inplace method.\n",
      "The behavior will change in pandas 3.0. This inplace method will never work because the intermediate object on which we are setting values always behaves as a copy.\n",
      "\n",
      "For example, when doing 'df[col].method(value, inplace=True)', try using 'df.method({col: value}, inplace=True)' or df[col] = df[col].method(value) instead, to perform the operation inplace on the original object.\n",
      "\n",
      "\n",
      "  df[\"price\"].fillna(df[\"price\"].mean(), inplace=True)\n"
     ]
    }
   ],
   "source": [
    "#task10\n",
    "# Ensure 'price' is numeric and cleaned (if not done in Task 2)\n",
    "df[\"price\"] = pd.to_numeric(df[\"price\"], errors=\"coerce\")\n",
    "df[\"price\"].fillna(df[\"price\"].mean(), inplace=True)\n",
    "# Calculate the average price grouped by fuel type\n",
    "average_price_fuel_type = df.groupby(\"fuel-type\")[\"price\"].mean()\n",
    "print(\"Average price of cars for each fuel type:\")\n",
    "print(average_price_fuel_type)"
   ]
  },
  {
   "cell_type": "code",
   "execution_count": 14,
   "id": "f6f35a40-f597-4a0a-a43a-88149bfe25ac",
   "metadata": {},
   "outputs": [
    {
     "name": "stdout",
     "output_type": "stream",
     "text": [
      "Concatenated DataFrame:\n",
      "         Company  Price\n",
      "0           Audi  17859\n",
      "1            BMW  26119\n",
      "2  Mercedes-Benz  33647\n",
      "3     Volkswagen  10078\n",
      "4         Toyota  17669\n",
      "5          Honda   8185\n",
      "6         Nissan  11845\n",
      "7          Mazda   8495\n"
     ]
    }
   ],
   "source": [
    "#task11\n",
    "# Define two DataFrames for German and Japanese cars\n",
    "german_cars = pd.DataFrame({\n",
    "    \"Company\": [\"Audi\", \"BMW\", \"Mercedes-Benz\", \"Volkswagen\"],\n",
    "    \"Price\": [17859, 26119, 33647, 10078]\n",
    "})\n",
    "japanese_cars = pd.DataFrame({\n",
    "    \"Company\": [\"Toyota\", \"Honda\", \"Nissan\", \"Mazda\"],\n",
    "    \"Price\": [17669, 8185, 11845, 8495]\n",
    "})\n",
    "\n",
    "# Concatenate the two DataFrames\n",
    "combined_cars = pd.concat([german_cars, japanese_cars], ignore_index=True)\n",
    "print(\"Concatenated DataFrame:\")\n",
    "print(combined_cars)"
   ]
  },
  {
   "cell_type": "code",
   "execution_count": 15,
   "id": "023c2bb6-7fbf-4e9e-ac93-bc8782eb3f5f",
   "metadata": {},
   "outputs": [
    {
     "name": "stdout",
     "output_type": "stream",
     "text": [
      "Merged DataFrame:\n",
      "  Company  Price  Horsepower\n",
      "0  Toyota  17669         161\n",
      "1   Honda  12945         101\n",
      "2     BMW  41315         182\n",
      "3    Audi  23875         160\n"
     ]
    }
   ],
   "source": [
    "# Define two DataFrames for price and horsepower\n",
    "car_price = pd.DataFrame({\n",
    "    \"Company\": [\"Toyota\", \"Honda\", \"BMW\", \"Audi\"],\n",
    "    \"Price\": [17669, 12945, 41315, 23875]\n",
    "})\n",
    "car_horsepower = pd.DataFrame({\n",
    "    \"Company\": [\"Toyota\", \"Honda\", \"BMW\", \"Audi\"],\n",
    "    \"Horsepower\": [161, 101, 182, 160]\n",
    "})\n",
    "\n",
    "# Merge the two DataFrames on the 'Company' column\n",
    "merged_df = pd.merge(car_price, car_horsepower, on=\"Company\")\n",
    "print(\"Merged DataFrame:\")\n",
    "print(merged_df)"
   ]
  },
  {
   "cell_type": "code",
   "execution_count": null,
   "id": "326aa019-c406-4072-b15d-4d842b7460fd",
   "metadata": {},
   "outputs": [],
   "source": []
  }
 ],
 "metadata": {
  "kernelspec": {
   "display_name": "Python 3 (ipykernel)",
   "language": "python",
   "name": "python3"
  },
  "language_info": {
   "codemirror_mode": {
    "name": "ipython",
    "version": 3
   },
   "file_extension": ".py",
   "mimetype": "text/x-python",
   "name": "python",
   "nbconvert_exporter": "python",
   "pygments_lexer": "ipython3",
   "version": "3.11.5"
  }
 },
 "nbformat": 4,
 "nbformat_minor": 5
}
