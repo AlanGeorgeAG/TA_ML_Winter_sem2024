{
 "cells": [
  {
   "cell_type": "code",
   "execution_count": 1,
   "id": "ccdc0be2-bc75-4c63-b078-81dde6d4f82a",
   "metadata": {},
   "outputs": [
    {
     "name": "stdout",
     "output_type": "stream",
     "text": [
      "Array:\n",
      "[[ 1  2]\n",
      " [ 3  4]\n",
      " [ 5  6]\n",
      " [ 7  8]\n",
      " [ 9 10]]\n",
      "Shape: (5, 2)\n",
      "Dimensions: 2\n",
      "Größe der Elemente in Bytes: 4\n"
     ]
    }
   ],
   "source": [
    "#Aufgabe 1\n",
    "import numpy as np\n",
    "\n",
    "array = np.array([[1, 2], [3, 4], [5, 6], [7, 8], [9, 10]])\n",
    "\n",
    "print(\"Array:\")\n",
    "print(array)\n",
    "print(\"Shape:\", array.shape)\n",
    "print(\"Dimensions:\", array.ndim)\n",
    "print(\"Größe der Elemente in Bytes:\", array.itemsize)\n"
   ]
  },
  {
   "cell_type": "code",
   "execution_count": 53,
   "id": "c4791c15-8229-48f8-b11f-c7f700f95cb2",
   "metadata": {},
   "outputs": [
    {
     "name": "stdout",
     "output_type": "stream",
     "text": [
      "Array:\n",
      "[[100 120]\n",
      " [140 160]\n",
      " [180 200]\n",
      " [100 120]\n",
      " [140 160]]\n"
     ]
    }
   ],
   "source": [
    "import numpy as np\n",
    "\n",
    "\n",
    "array = np.arange(100, 220, 20) \n",
    "\n",
    "# Verdoppeln des Arrays, um auf 10 Elemente zu kommen\n",
    "array = np.concatenate([array, array[:4]])\n",
    "\n",
    "array = array.reshape(5, 2)\n",
    "\n",
    "\n",
    "print(\"Array:\")\n",
    "print(array)"
   ]
  },
  {
   "cell_type": "code",
   "execution_count": 57,
   "id": "449e8545-2380-4bec-8b59-3068fd5d3799",
   "metadata": {},
   "outputs": [
    {
     "name": "stdout",
     "output_type": "stream",
     "text": [
      "Dritte Spalte:\n",
      "[ 30  70 110 150]\n"
     ]
    }
   ],
   "source": [
    "#Aufgabe 3\n",
    "import numpy as np\n",
    "\n",
    "array = np.array([[10, 20, 30, 40],\n",
    "                  [50, 60, 70, 80],\n",
    "                  [90, 100, 110, 120],\n",
    "                  [130, 140, 150, 160]])\n",
    "\n",
    "third_column = array[:, 2]\n",
    "\n",
    "print(\"Dritte Spalte:\")\n",
    "print(third_column)\n"
   ]
  },
  {
   "cell_type": "code",
   "execution_count": 59,
   "id": "6351fcb7-2f16-4de5-8e99-417ff9e84427",
   "metadata": {},
   "outputs": [
    {
     "name": "stdout",
     "output_type": "stream",
     "text": [
      "Ergebnis der Subtraktion:\n",
      "[[ 6  6  6]\n",
      " [-4 -4 -4]]\n",
      "Ergebnis nach Quadrieren:\n",
      "[[36 36 36]\n",
      " [16 16 16]]\n"
     ]
    }
   ],
   "source": [
    "#Aufgabe 4\n",
    "import numpy as np\n",
    "\n",
    "array1 = np.array([[8, 7, 6], [5, 4, 3]])\n",
    "array2 = np.array([[2, 1, 0], [9, 8, 7]])\n",
    "\n",
    "result = array1 - array2\n",
    "\n",
    "squared_result = result ** 2\n",
    "\n",
    "print(\"Ergebnis der Subtraktion:\")\n",
    "print(result)\n",
    "print(\"Ergebnis nach Quadrieren:\")\n",
    "print(squared_result)\n"
   ]
  },
  {
   "cell_type": "code",
   "execution_count": 67,
   "id": "fc02377e-74c7-4101-bce3-d4cd55d71194",
   "metadata": {},
   "outputs": [
    {
     "name": "stdout",
     "output_type": "stream",
     "text": [
      "altes array:\n",
      "[[50 51]\n",
      " [52 53]\n",
      " [54 55]\n",
      " [56 57]\n",
      " [58 59]\n",
      " [60 61]\n",
      " [62 63]\n",
      " [64 65]]\n",
      "\n",
      "Aufgeteilte Arrays:\n",
      "Teil 1:\n",
      "[[50 51]\n",
      " [52 53]]\n",
      "Teil 2:\n",
      "[[54 55]\n",
      " [56 57]]\n",
      "Teil 3:\n",
      "[[58 59]\n",
      " [60 61]]\n",
      "Teil 4:\n",
      "[[62 63]\n",
      " [64 65]]\n"
     ]
    }
   ],
   "source": [
    "#Aufgabe 5\n",
    "import numpy as np\n",
    "\n",
    "array = np.array([[50, 51],\n",
    "                  [52, 53],\n",
    "                  [54, 55],\n",
    "                  [56, 57],\n",
    "                  [58, 59],\n",
    "                  [60, 61],\n",
    "                  [62, 63],\n",
    "                  [64, 65]])\n",
    "print(\"altes array:\")\n",
    "print(array)\n",
    "print()\n",
    "split_arrays = np.split(array, 4)\n",
    "\n",
    "\n",
    "print(\"Aufgeteilte Arrays:\")\n",
    "for i, split_array in enumerate(split_arrays):\n",
    "    print(f\"Teil {i + 1}:\")\n",
    "    print(split_array)"
   ]
  },
  {
   "cell_type": "code",
   "execution_count": 73,
   "id": "a56aa66c-012a-4a29-a61d-dd18e86cd2dd",
   "metadata": {},
   "outputs": [
    {
     "name": "stdout",
     "output_type": "stream",
     "text": [
      "Matrix sortiert nach der letzten Zeile und dann der zweiten Spalte:\n",
      "[[70 20 60]\n",
      " [15 25 35]\n",
      " [10 40 30]\n",
      " [50 90 80]]\n"
     ]
    }
   ],
   "source": [
    "# Aufgabe 6\n",
    "import numpy as np\n",
    "\n",
    "matrix = np.array([[10, 40, 30], [70, 20, 60], [50, 90, 80], [15, 25, 35]])\n",
    "\n",
    "# Sortieren nach den Werten in der letzten Zeile (Index 2)\n",
    "sorted_by_last_row = matrix[matrix[:, 2].argsort()]\n",
    "\n",
    "# Sortieren nach den Werten in der zweiten Spalte (Index 1)\n",
    "sorted_by_second_column = sorted_by_last_row[sorted_by_last_row[:, 1].argsort()]\n",
    "\n",
    "# Ausgabe der sortierten Matrix\n",
    "print(\"Matrix sortiert nach der letzten Zeile und dann der zweiten Spalte:\")\n",
    "print(sorted_by_second_column)\n"
   ]
  },
  {
   "cell_type": "code",
   "execution_count": 81,
   "id": "2ea1ba8e-92e9-4ea3-8a06-f081e1d453b0",
   "metadata": {},
   "outputs": [
    {
     "name": "stdout",
     "output_type": "stream",
     "text": [
      "Matrix nach dem Ersetzen der letzten Spalte mit Nullen:\n",
      "[[ 12  22   0]\n",
      " [ 42  52   0]\n",
      " [ 72  82   0]\n",
      " [102 112   0]]\n"
     ]
    }
   ],
   "source": [
    "#Aufgabe 7\n",
    "import numpy as np\n",
    "\n",
    "matrix = np.array([[12, 22, 32], [42, 52, 62], [72, 82, 92], [102, 112, 122]])\n",
    "\n",
    "matrix[:, 2] = 0\n",
    "\n",
    "print(\"Matrix nach dem Ersetzen der letzten Spalte mit Nullen:\")\n",
    "print(matrix)\n"
   ]
  },
  {
   "cell_type": "code",
   "execution_count": 91,
   "id": "a8e326d0-6492-4288-ad8d-d4d257766b54",
   "metadata": {},
   "outputs": [
    {
     "name": "stdout",
     "output_type": "stream",
     "text": [
      "die Matrix ist\n",
      "[[7 5]\n",
      " [3 2]]\n",
      "\n",
      "Spur der Matrix: 9\n",
      "Determinante der Matrix: -0.9999999999999996\n",
      "Inverse der Matrix:\n",
      "[[-2.  5.]\n",
      " [ 3. -7.]]\n"
     ]
    }
   ],
   "source": [
    "#Aufgabe 8\n",
    "import numpy as np\n",
    "\n",
    "matrix = np.array([[7, 5], [3, 2]])\n",
    "print(\"die Matrix ist\")\n",
    "print(matrix)\n",
    "\n",
    "Spur = np.trace(matrix)\n",
    "\n",
    "\n",
    "determinante = np.linalg.det(matrix)\n",
    "\n",
    "if determinante != 0:\n",
    "    inverse = np.linalg.inv(matrix)\n",
    "else:\n",
    "    inverse = None\n",
    "\n",
    "print(\"\\nSpur der Matrix:\", Spur)\n",
    "print(\"Determinante der Matrix:\", determinante)\n",
    "if inverse is not None:\n",
    "    print(\"Inverse der Matrix:\")\n",
    "    print(inverse)\n",
    "else:\n",
    "    print(\"Die Matrix ist nicht invertierbar (Determinante ist 0).\")"
   ]
  },
  {
   "cell_type": "code",
   "execution_count": 95,
   "id": "9a2a63a4-b4e1-44c2-8fd4-58f902639819",
   "metadata": {},
   "outputs": [
    {
     "name": "stdout",
     "output_type": "stream",
     "text": [
      "Statistik für x1:\n",
      "Mittelwert: 5.5, Median: 5.5, 1. Quartil: 3.25, 3. Quartil: 7.75, Standardabweichung: 2.8722813232690143\n",
      "\n",
      "Statistik für y1:\n",
      "Mittelwert: 11.190000000000001, Median: 11.5, 1. Quartil: 6.275, 3. Quartil: 15.725, Standardabweichung: 5.910406077419724\n",
      "\n",
      "Statistik für x2:\n",
      "Mittelwert: 0.55, Median: 0.55, 1. Quartil: 0.325, 3. Quartil: 0.775, Standardabweichung: 0.2872281323269014\n",
      "\n",
      "Statistik für y2:\n",
      "Mittelwert: 3.622, Median: 3.16, 1. Quartil: 1.8825, 3. Quartil: 4.8325, Standardabweichung: 2.042546449900222\n"
     ]
    }
   ],
   "source": [
    "#Aufgabe 9\n",
    "import numpy as np\n",
    "\n",
    "x1 = np.array([1.0, 2.0, 3.0, 4.0, 5.0, 6.0, 7.0, 8.0, 9.0, 10.0])\n",
    "y1 = np.array([2.1, 3.9, 5.8, 7.7, 11.0, 12.0, 14.3, 16.2, 19.0, 19.9])\n",
    "x2 = np.array([0.1, 0.2, 0.3, 0.4, 0.5, 0.6, 0.7, 0.8, 0.9, 1.0])\n",
    "y2 = np.array([1.23, 1.48, 1.79, 2.16, 3.00, 3.32, 4.18, 5.05, 6.69, 7.32])\n",
    "\n",
    "\n",
    "def calculate_statistics(data):\n",
    "    mean = np.mean(data)\n",
    "    median = np.median(data)\n",
    "    q1, q3 = np.percentile(data, [25, 75])\n",
    "    std_dev = np.std(data)\n",
    "    return mean, median, q1, q3, std_dev\n",
    "\n",
    "statistics_x1 = calculate_statistics(x1)\n",
    "statistics_y1 = calculate_statistics(y1)\n",
    "statistics_x2 = calculate_statistics(x2)\n",
    "statistics_y2 = calculate_statistics(y2)\n",
    "\n",
    "print(\"Statistik für x1:\")\n",
    "print(f\"Mittelwert: {statistics_x1[0]}, Median: {statistics_x1[1]}, 1. Quartil: {statistics_x1[2]}, 3. Quartil: {statistics_x1[3]}, Standardabweichung: {statistics_x1[4]}\")\n",
    "print(\"\\nStatistik für y1:\")\n",
    "print(f\"Mittelwert: {statistics_y1[0]}, Median: {statistics_y1[1]}, 1. Quartil: {statistics_y1[2]}, 3. Quartil: {statistics_y1[3]}, Standardabweichung: {statistics_y1[4]}\")\n",
    "print(\"\\nStatistik für x2:\")\n",
    "print(f\"Mittelwert: {statistics_x2[0]}, Median: {statistics_x2[1]}, 1. Quartil: {statistics_x2[2]}, 3. Quartil: {statistics_x2[3]}, Standardabweichung: {statistics_x2[4]}\")\n",
    "print(\"\\nStatistik für y2:\")\n",
    "print(f\"Mittelwert: {statistics_y2[0]}, Median: {statistics_y2[1]}, 1. Quartil: {statistics_y2[2]}, 3. Quartil: {statistics_y2[3]}, Standardabweichung: {statistics_y2[4]}\")"
   ]
  },
  {
   "cell_type": "code",
   "execution_count": 97,
   "id": "81633702-c6f0-4f41-92b6-a5ec17f2c719",
   "metadata": {},
   "outputs": [
    {
     "name": "stdout",
     "output_type": "stream",
     "text": [
      "Mittelwert: 5.875\n",
      "Empirische Varianz: 4.125\n"
     ]
    }
   ],
   "source": [
    "#Aufgabe 10\n",
    "import numpy as np\n",
    "\n",
    "x = np.array([4, 8, 6, 5, 3, 7, 9, 5])\n",
    "\n",
    "mittelwert = np.mean(x)\n",
    "\n",
    "empirische_varianz = np.sum((x - mittelwert)**2) / (len(x) - 1)\n",
    "\n",
    "print(f\"Mittelwert: {mittelwert}\")\n",
    "print(f\"Empirische Varianz: {empirische_varianz}\")\n",
    "\n",
    "\n"
   ]
  }
 ],
 "metadata": {
  "kernelspec": {
   "display_name": "Python 3 (ipykernel)",
   "language": "python",
   "name": "python3"
  },
  "language_info": {
   "codemirror_mode": {
    "name": "ipython",
    "version": 3
   },
   "file_extension": ".py",
   "mimetype": "text/x-python",
   "name": "python",
   "nbconvert_exporter": "python",
   "pygments_lexer": "ipython3",
   "version": "3.12.4"
  }
 },
 "nbformat": 4,
 "nbformat_minor": 5
}
